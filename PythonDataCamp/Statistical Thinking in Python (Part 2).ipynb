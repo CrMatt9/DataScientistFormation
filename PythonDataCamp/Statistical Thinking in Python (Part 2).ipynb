{
 "cells": [
  {
   "cell_type": "markdown",
   "id": "enabling-intro",
   "metadata": {},
   "source": [
    "# Statistical Thinking in Python (Part 2)"
   ]
  },
  {
   "cell_type": "markdown",
   "id": "lyric-allocation",
   "metadata": {},
   "source": [
    "## Parameter estimation by optimization"
   ]
  },
  {
   "cell_type": "markdown",
   "id": "variable-lebanon",
   "metadata": {},
   "source": [
    "### Optimal parameters"
   ]
  },
  {
   "cell_type": "code",
   "execution_count": null,
   "id": "beneficial-xerox",
   "metadata": {},
   "outputs": [],
   "source": []
  }
 ],
 "metadata": {
  "kernelspec": {
   "display_name": "Python 3",
   "language": "python",
   "name": "python3"
  },
  "language_info": {
   "codemirror_mode": {
    "name": "ipython",
    "version": 3
   },
   "file_extension": ".py",
   "mimetype": "text/x-python",
   "name": "python",
   "nbconvert_exporter": "python",
   "pygments_lexer": "ipython3",
   "version": "3.9.2"
  }
 },
 "nbformat": 4,
 "nbformat_minor": 5
}
