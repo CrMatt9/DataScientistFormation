{
 "cells": [
  {
   "cell_type": "markdown",
   "id": "cognitive-improvement",
   "metadata": {},
   "source": [
    "# Statistical Thinking in Python (Part 1)"
   ]
  },
  {
   "cell_type": "markdown",
   "id": "ranking-cemetery",
   "metadata": {},
   "source": [
    "## Graphical exploratory data analysis"
   ]
  },
  {
   "cell_type": "markdown",
   "id": "south-boating",
   "metadata": {},
   "source": [
    "### Introduction to Exploratory Data Analysis\n"
   ]
  },
  {
   "cell_type": "markdown",
   "id": "behavioral-scene",
   "metadata": {},
   "source": [
    "### Plotting a histogram"
   ]
  },
  {
   "cell_type": "code",
   "execution_count": 49,
   "id": "vital-comfort",
   "metadata": {},
   "outputs": [
    {
     "data": {
      "text/html": [
       "<div>\n",
       "<style scoped>\n",
       "    .dataframe tbody tr th:only-of-type {\n",
       "        vertical-align: middle;\n",
       "    }\n",
       "\n",
       "    .dataframe tbody tr th {\n",
       "        vertical-align: top;\n",
       "    }\n",
       "\n",
       "    .dataframe thead th {\n",
       "        text-align: right;\n",
       "    }\n",
       "</style>\n",
       "<table border=\"1\" class=\"dataframe\">\n",
       "  <thead>\n",
       "    <tr style=\"text-align: right;\">\n",
       "      <th></th>\n",
       "      <th>sepal length (cm)</th>\n",
       "      <th>sepal width (cm)</th>\n",
       "      <th>petal length (cm)</th>\n",
       "      <th>petal width (cm)</th>\n",
       "      <th>species</th>\n",
       "    </tr>\n",
       "  </thead>\n",
       "  <tbody>\n",
       "    <tr>\n",
       "      <th>0</th>\n",
       "      <td>5.1</td>\n",
       "      <td>3.5</td>\n",
       "      <td>1.4</td>\n",
       "      <td>0.2</td>\n",
       "      <td>setosa</td>\n",
       "    </tr>\n",
       "    <tr>\n",
       "      <th>1</th>\n",
       "      <td>4.9</td>\n",
       "      <td>3.0</td>\n",
       "      <td>1.4</td>\n",
       "      <td>0.2</td>\n",
       "      <td>setosa</td>\n",
       "    </tr>\n",
       "    <tr>\n",
       "      <th>2</th>\n",
       "      <td>4.7</td>\n",
       "      <td>3.2</td>\n",
       "      <td>1.3</td>\n",
       "      <td>0.2</td>\n",
       "      <td>setosa</td>\n",
       "    </tr>\n",
       "    <tr>\n",
       "      <th>3</th>\n",
       "      <td>4.6</td>\n",
       "      <td>3.1</td>\n",
       "      <td>1.5</td>\n",
       "      <td>0.2</td>\n",
       "      <td>setosa</td>\n",
       "    </tr>\n",
       "    <tr>\n",
       "      <th>4</th>\n",
       "      <td>5.0</td>\n",
       "      <td>3.6</td>\n",
       "      <td>1.4</td>\n",
       "      <td>0.2</td>\n",
       "      <td>setosa</td>\n",
       "    </tr>\n",
       "  </tbody>\n",
       "</table>\n",
       "</div>"
      ],
      "text/plain": [
       "   sepal length (cm)  sepal width (cm)  petal length (cm)  petal width (cm)  \\\n",
       "0                5.1               3.5                1.4               0.2   \n",
       "1                4.9               3.0                1.4               0.2   \n",
       "2                4.7               3.2                1.3               0.2   \n",
       "3                4.6               3.1                1.5               0.2   \n",
       "4                5.0               3.6                1.4               0.2   \n",
       "\n",
       "  species  \n",
       "0  setosa  \n",
       "1  setosa  \n",
       "2  setosa  \n",
       "3  setosa  \n",
       "4  setosa  "
      ]
     },
     "execution_count": 49,
     "metadata": {},
     "output_type": "execute_result"
    }
   ],
   "source": [
    "#Disable warnings\n",
    "import warnings\n",
    "warnings.filterwarnings('ignore')\n",
    "\n",
    "#Import basic packages\n",
    "import pandas as pd\n",
    "import numpy as np\n",
    "import matplotlib.pyplot as plt\n",
    "import seaborn as sns\n",
    "from sklearn.datasets import load_iris\n",
    "\n",
    "raw_iris = load_iris()\n",
    "iris = pd.DataFrame(raw_iris.data, columns=raw_iris.feature_names)\n",
    "iris['species'] = pd.Categorical.from_codes(raw_iris.target, raw_iris.target_names)\n",
    "iris.head()"
   ]
  },
  {
   "cell_type": "code",
   "execution_count": 50,
   "id": "hydraulic-charleston",
   "metadata": {
    "scrolled": true
   },
   "outputs": [],
   "source": [
    "versicolor = iris[iris['species'] == 'versicolor']\n",
    "versicolor_petal_length = versicolor['petal length (cm)']"
   ]
  },
  {
   "cell_type": "markdown",
   "id": "silent-contribution",
   "metadata": {},
   "source": [
    "#### Plotting a histogram of iris data"
   ]
  },
  {
   "cell_type": "code",
   "execution_count": 51,
   "id": "laden-raising",
   "metadata": {},
   "outputs": [
    {
     "data": {
      "image/png": "[encoded data removed]",
      "text/plain": [
       "<Figure size 432x288 with 1 Axes>"
      ]
     },
     "metadata": {},
     "output_type": "display_data"
    }
   ],
   "source": [
    "# Import plotting modules\n",
    "import matplotlib.pyplot as plt\n",
    "import seaborn as sns\n",
    "\n",
    "# Set default Seaborn style\n",
    "sns.set()\n",
    "\n",
    "# Plot histogram of versicolor petal lengths\n",
    "plt.hist(versicolor_petal_length)\n",
    "\n",
    "# Show histogram\n",
    "plt.show()"
   ]
  },
  {
   "cell_type": "markdown",
   "id": "coated-canberra",
   "metadata": {},
   "source": [
    "#### Axis labels"
   ]
  },
  {
   "cell_type": "code",
   "execution_count": 52,
   "id": "handled-organic",
   "metadata": {},
   "outputs": [
    {
     "data": {
      "image/png": "[encoded data removed]",
      "text/plain": [
       "<Figure size 432x288 with 1 Axes>"
      ]
     },
     "metadata": {},
     "output_type": "display_data"
    }
   ],
   "source": [
    "# Plot histogram of versicolor petal lengths\n",
    "_ = plt.hist(versicolor_petal_length)\n",
    "\n",
    "# Label axes\n",
    "plt.xlabel('petal length (cm)')\n",
    "plt.ylabel('count')\n",
    "\n",
    "\n",
    "# Show histogram\n",
    "plt.show()\n"
   ]
  },
  {
   "cell_type": "markdown",
   "id": "partial-looking",
   "metadata": {},
   "source": [
    "#### Adjusting the number of bins in a histogram"
   ]
  },
  {
   "cell_type": "code",
   "execution_count": 53,
   "id": "saving-skirt",
   "metadata": {},
   "outputs": [
    {
     "data": {
      "image/png": "[encoded data removed]",
      "text/plain": [
       "<Figure size 432x288 with 1 Axes>"
      ]
     },
     "metadata": {},
     "output_type": "display_data"
    }
   ],
   "source": [
    "# Import numpy\n",
    "import numpy as np\n",
    "\n",
    "# Compute number of data points: n_data\n",
    "n_data = len(versicolor_petal_length)\n",
    "\n",
    "# Number of bins is the square root of number of data points: n_bins\n",
    "n_bins = np.sqrt(n_data)\n",
    "\n",
    "# Convert number of bins to integer: n_bins\n",
    "n_bins = int(n_bins)\n",
    "\n",
    "# Plot the histogram\n",
    "plt.hist(versicolor_petal_length, bins=n_bins)\n",
    "\n",
    "# Label axes\n",
    "_ = plt.xlabel('petal length (cm)')\n",
    "_ = plt.ylabel('count')\n",
    "\n",
    "# Show histogram\n",
    "plt.show()"
   ]
  },
  {
   "cell_type": "markdown",
   "id": "ecological-gates",
   "metadata": {},
   "source": [
    "### Plot all of your data: Bee swarm plots"
   ]
  },
  {
   "cell_type": "markdown",
   "id": "cardiovascular-garden",
   "metadata": {},
   "source": [
    "#### Bee swarm plot"
   ]
  },
  {
   "cell_type": "code",
   "execution_count": 56,
   "id": "harmful-funeral",
   "metadata": {},
   "outputs": [
    {
     "data": {
      "image/png": "[encoded data removed]",
      "text/plain": [
       "<Figure size 432x288 with 1 Axes>"
      ]
     },
     "metadata": {},
     "output_type": "display_data"
    }
   ],
   "source": [
    "# Create bee swarm plot with Seaborn's default settings\n",
    "sns.swarmplot(x='species', y='petal length (cm)', data=iris)\n",
    "\n",
    "# Label the axes\n",
    "plt.xlabel('Species')\n",
    "plt.ylabel('Petal Lenght (cm)')\n",
    "\n",
    "# Show the plot\n",
    "plt.show()\n"
   ]
  },
  {
   "cell_type": "markdown",
   "id": "loaded-qatar",
   "metadata": {},
   "source": [
    "### IPlot all of your data: ECDFs\n"
   ]
  },
  {
   "cell_type": "markdown",
   "id": "solar-representation",
   "metadata": {},
   "source": [
    "#### Computing the ECDF"
   ]
  },
  {
   "cell_type": "code",
   "execution_count": 57,
   "id": "precise-award",
   "metadata": {},
   "outputs": [],
   "source": [
    "def ecdf(data):\n",
    "    \"\"\"Compute ECDF for a one-dimensional array of measurements.\"\"\"\n",
    "    # Number of data points: n\n",
    "    n = len(data)\n",
    "\n",
    "    # x-data for the ECDF: x\n",
    "    x = np.sort(data)\n",
    "\n",
    "    # y-data for the ECDF: y\n",
    "    y = np.arange(1, n+1) / n\n",
    "\n",
    "    return x, y\n"
   ]
  },
  {
   "cell_type": "markdown",
   "id": "honest-enlargement",
   "metadata": {},
   "source": [
    "#### Plotting the ECDF"
   ]
  },
  {
   "cell_type": "code",
   "execution_count": 59,
   "id": "separate-earthquake",
   "metadata": {},
   "outputs": [
    {
     "data": {
      "image/png": "[encoded data removed]",
      "text/plain": [
       "<Figure size 432x288 with 1 Axes>"
      ]
     },
     "metadata": {},
     "output_type": "display_data"
    }
   ],
   "source": [
    "# Compute ECDF for versicolor data: x_vers, y_vers\n",
    "x_vers, y_vers = ecdf(versicolor_petal_length)\n",
    "\n",
    "# Generate plot\n",
    "plt.plot(x_vers, y_vers, marker='.', linestyle='none')\n",
    "\n",
    "# Label the axes\n",
    "plt.xlabel('Versicolor Petal Lenght (cm)')\n",
    "plt.ylabel('Cumulative Species')\n",
    "\n",
    "\n",
    "# Display the plot\n",
    "plt.show()\n"
   ]
  },
  {
   "cell_type": "markdown",
   "id": "secure-bosnia",
   "metadata": {},
   "source": [
    "#### Comparison of ECDFs"
   ]
  },
  {
   "cell_type": "code",
   "execution_count": 61,
   "id": "announced-wiring",
   "metadata": {},
   "outputs": [],
   "source": [
    "setosa = iris[iris['species'] == 'setosa']\n",
    "setosa_petal_length = setosa['petal length (cm)']\n",
    "\n",
    "virginica = iris[iris['species'] == 'virginica']\n",
    "virginica_petal_length = virginica['petal length (cm)']"
   ]
  },
  {
   "cell_type": "code",
   "execution_count": 63,
   "id": "brown-dancing",
   "metadata": {},
   "outputs": [
    {
     "data": {
      "image/png": "[encoded data removed]",
      "text/plain": [
       "<Figure size 432x288 with 1 Axes>"
      ]
     },
     "metadata": {},
     "output_type": "display_data"
    }
   ],
   "source": [
    "# Compute ECDFs\n",
    "x_set, y_set = ecdf(setosa_petal_length)\n",
    "x_vers, y_vers= ecdf(versicolor_petal_length)\n",
    "x_virg, y_virg = ecdf(virginica_petal_length)\n",
    "\n",
    "# Plot all ECDFs on the same plot\n",
    "\n",
    "plt.plot(x_set, y_set, marker='.', linestyle='none')\n",
    "plt.plot(x_vers, y_vers, marker='.', linestyle='none')\n",
    "plt.plot(x_virg, y_virg, marker='.', linestyle='none')\n",
    "\n",
    "# Annotate the plot\n",
    "plt.legend(('setosa', 'versicolor', 'virginica'), loc='lower right')\n",
    "_ = plt.xlabel('Petal Length (cm)')\n",
    "_ = plt.ylabel('ECDF')\n",
    "\n",
    "# Display the plot\n",
    "plt.show()"
   ]
  },
  {
   "cell_type": "markdown",
   "id": "right-sleeping",
   "metadata": {},
   "source": [
    "## Quantitative exploratory data analysis"
   ]
  },
  {
   "cell_type": "markdown",
   "id": "modular-singing",
   "metadata": {},
   "source": [
    "### Introduction to summary statistics: The sample mean and median\n"
   ]
  },
  {
   "cell_type": "code",
   "execution_count": null,
   "id": "quiet-pregnancy",
   "metadata": {},
   "outputs": [],
   "source": []
  }
 ],
 "metadata": {
  "kernelspec": {
   "display_name": "Python 3",
   "language": "python",
   "name": "python3"
  },
  "language_info": {
   "codemirror_mode": {
    "name": "ipython",
    "version": 3
   },
   "file_extension": ".py",
   "mimetype": "text/x-python",
   "name": "python",
   "nbconvert_exporter": "python",
   "pygments_lexer": "ipython3",
   "version": "3.9.2"
  }
 },
 "nbformat": 4,
 "nbformat_minor": 5
}
